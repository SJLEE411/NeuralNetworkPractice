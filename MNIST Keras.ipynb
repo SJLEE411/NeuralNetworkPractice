{
 "cells": [
  {
   "cell_type": "markdown",
   "id": "96a040b0",
   "metadata": {},
   "source": [
    "### Hello World of Neural Network\n",
    "#### MNIST is a set of images of handwritten digits\n",
    "#### The problem is to classify each greyscale image into the corret category, namely '0', '1'..., '9'\n",
    "#### There are 60000 training images and 10000 images\n",
    "\n",
    "Each image is a data point and it is called sample\n",
    "And each data points typically belong to one or more categories\n",
    "Each Mnist image belongs to exactly one category or class 0,1,2. etc.\n",
    "The class of a sample is known as its label\n",
    "\n",
    "1. load\n",
    "2. preprocess\n",
    "3. build network\n",
    "4. train\n",
    "5. test\n",
    "\n",
    "The Mnist dataset is one of several Tensorflow dataset"
   ]
  },
  {
   "cell_type": "markdown",
   "id": "31bfa5fc",
   "metadata": {},
   "source": [
    "### 1. Load"
   ]
  },
  {
   "cell_type": "code",
   "execution_count": 1,
   "id": "d9ef3cff",
   "metadata": {},
   "outputs": [
    {
     "name": "stdout",
     "output_type": "stream",
     "text": [
      "Requirement already satisfied: keras in /Users/sangjunelee/anaconda3/lib/python3.11/site-packages (3.0.5)\n",
      "Requirement already satisfied: absl-py in /Users/sangjunelee/anaconda3/lib/python3.11/site-packages (from keras) (2.1.0)\n",
      "Requirement already satisfied: numpy in /Users/sangjunelee/anaconda3/lib/python3.11/site-packages (from keras) (1.24.3)\n",
      "Requirement already satisfied: rich in /Users/sangjunelee/anaconda3/lib/python3.11/site-packages (from keras) (13.7.0)\n",
      "Requirement already satisfied: namex in /Users/sangjunelee/anaconda3/lib/python3.11/site-packages (from keras) (0.0.7)\n",
      "Requirement already satisfied: h5py in /Users/sangjunelee/anaconda3/lib/python3.11/site-packages (from keras) (3.9.0)\n",
      "Requirement already satisfied: dm-tree in /Users/sangjunelee/anaconda3/lib/python3.11/site-packages (from keras) (0.1.8)\n",
      "Requirement already satisfied: ml-dtypes in /Users/sangjunelee/anaconda3/lib/python3.11/site-packages (from keras) (0.2.0)\n",
      "Requirement already satisfied: markdown-it-py>=2.2.0 in /Users/sangjunelee/anaconda3/lib/python3.11/site-packages (from rich->keras) (2.2.0)\n",
      "Requirement already satisfied: pygments<3.0.0,>=2.13.0 in /Users/sangjunelee/anaconda3/lib/python3.11/site-packages (from rich->keras) (2.15.1)\n",
      "Requirement already satisfied: mdurl~=0.1 in /Users/sangjunelee/anaconda3/lib/python3.11/site-packages (from markdown-it-py>=2.2.0->rich->keras) (0.1.0)\n",
      "Note: you may need to restart the kernel to use updated packages.\n"
     ]
    }
   ],
   "source": [
    "pip install --upgrade keras"
   ]
  },
  {
   "cell_type": "code",
   "execution_count": 2,
   "id": "07753135",
   "metadata": {},
   "outputs": [],
   "source": [
    "import keras"
   ]
  },
  {
   "cell_type": "code",
   "execution_count": 3,
   "id": "ebef2ed9",
   "metadata": {},
   "outputs": [],
   "source": [
    "from tensorflow.keras.datasets import mnist"
   ]
  },
  {
   "cell_type": "code",
   "execution_count": 4,
   "id": "90dd9d6a",
   "metadata": {},
   "outputs": [],
   "source": [
    "(train_images, train_labels),(test_images, test_labels) = mnist.load_data()"
   ]
  },
  {
   "cell_type": "markdown",
   "id": "01d7bd57",
   "metadata": {},
   "source": [
    "#### Data is stored in special multidimensional arrays tensors, There are 60000 greyscale images in the training set, Each image is 28pxl x 28pxl\n",
    "    - the training set is a data container with 60000 x 28 x 28 elements\n",
    "    - the training lavels are stored in a 60000 element vector"
   ]
  },
  {
   "cell_type": "code",
   "execution_count": 5,
   "id": "76c85406",
   "metadata": {},
   "outputs": [
    {
     "name": "stdout",
     "output_type": "stream",
     "text": [
      "tensor shape\n",
      "\ttraining images: (60000, 28, 28)\n",
      "\ttraining labels: (60000,)\n",
      "\ttest images:\t (10000, 28, 28)\n",
      "\ttest labels:\t (10000,)\n"
     ]
    }
   ],
   "source": [
    "print('tensor shape')\n",
    "print('\\ttraining images:', train_images.shape)\n",
    "print('\\ttraining labels:', train_labels.shape)\n",
    "print('\\ttest images:\\t', test_images.shape)\n",
    "print('\\ttest labels:\\t', test_labels.shape)"
   ]
  },
  {
   "cell_type": "markdown",
   "id": "47d5e65b",
   "metadata": {},
   "source": [
    "### 2. Preprocess\n",
    "The data has to be 'reshaped' to a form that is acceptable to the network\n",
    "\n",
    "The network will expect samples as vectors (1D arrays) of floating point values"
   ]
  },
  {
   "cell_type": "code",
   "execution_count": 6,
   "id": "c3f2b7f8",
   "metadata": {},
   "outputs": [
    {
     "name": "stdout",
     "output_type": "stream",
     "text": [
      "samples:\n"
     ]
    },
    {
     "data": {
      "image/png": "[encoded data removed]",
      "text/plain": [
       "<Figure size 640x480 with 1 Axes>"
      ]
     },
     "metadata": {},
     "output_type": "display_data"
    },
    {
     "name": "stdout",
     "output_type": "stream",
     "text": [
      "label:  7\n"
     ]
    }
   ],
   "source": [
    "# inspect the first image using the matplotlib\n",
    "import matplotlib.pyplot as plt\n",
    "xmpl_image = test_images[0]\n",
    "xmpl_label = test_labels[0]\n",
    "print('samples:')\n",
    "plt.imshow(xmpl_image, cmap=plt.cm.binary)\n",
    "plt.show()\n",
    "\n",
    "# check the label is correct\n",
    "print('label: ', xmpl_label)"
   ]
  },
  {
   "cell_type": "code",
   "execution_count": 7,
   "id": "15af3a59",
   "metadata": {},
   "outputs": [],
   "source": [
    "# reshape flattens 28 x 28 array to a vector of 784 elements\n",
    "train_images = train_images.reshape((60000, 28 * 28))\n",
    "test_images = test_images.reshape((10000, 28 * 28))\n",
    "\n",
    "#cast as floats and rescale from to [0, 1]\n",
    "train_images = train_images.astype('float32') / 255\n",
    "test_images = test_images.astype('float32') / 255"
   ]
  },
  {
   "cell_type": "markdown",
   "id": "a447a088",
   "metadata": {},
   "source": [
    "#### The network is also expecting categorically encoded labels\n",
    "a vector with a single nonzero element corresponding to the category\n",
    "\n",
    "Each label will be turned in to a 10 element vector with a single 'hot' nonzero entry\n",
    "\n",
    "for example 7 is encoded as (0,0,0,0,0,0,0,1,0,0)\n",
    "\n",
    "One - hot encoding"
   ]
  },
  {
   "cell_type": "code",
   "execution_count": 8,
   "id": "8fdf059a",
   "metadata": {},
   "outputs": [
    {
     "name": "stdout",
     "output_type": "stream",
     "text": [
      "'7' as one-hot vector:\t[0. 0. 0. 0. 0. 0. 0. 1. 0. 0.]\n"
     ]
    }
   ],
   "source": [
    "# encode with the convenient to_categorical function\n",
    "from tensorflow.keras.utils import to_categorical\n",
    "\n",
    "orig_label = test_labels[0]\n",
    "train_labels = to_categorical(train_labels)\n",
    "test_labels = to_categorical(test_labels)\n",
    "\n",
    "#check encoding\n",
    "print('\\'', orig_label, '\\'', ' as one-hot vector:\\t', test_labels[0], sep='')"
   ]
  },
  {
   "cell_type": "markdown",
   "id": "9d9d9f8d",
   "metadata": {},
   "source": [
    "### 3. Build"
   ]
  },
  {
   "cell_type": "code",
   "execution_count": 9,
   "id": "1ae2438e",
   "metadata": {},
   "outputs": [],
   "source": [
    "#empty network\n",
    "from keras.models import Sequential\n",
    "network = Sequential()"
   ]
  },
  {
   "cell_type": "code",
   "execution_count": 10,
   "id": "74db31be",
   "metadata": {},
   "outputs": [],
   "source": [
    "#add two layers\n",
    "from keras.layers import Dense, Input\n",
    "# Add the first layer with Input shape\n",
    "network.add(Input(shape=(28 * 28, )))\n",
    "\n",
    "# Add the subsequent layers\n",
    "network.add(Dense(512, activation='relu'))\n",
    "network.add(Dense(10, activation='softmax'))"
   ]
  },
  {
   "cell_type": "markdown",
   "id": "b625836c",
   "metadata": {},
   "source": [
    "The second softmax layer outputs a vector whose elements form a probability distribution\n",
    "\n",
    "    - the numbers are nonnegative and sum to one - a probability distribution\n",
    "    - outputs are interpreted as probabilities of membership of each class: the probability that the input sample is labeled '0' or '1' or '2' and so on\n",
    "\n",
    "\n",
    "However the network is not yet ready. We must specify a loss function, an optimiser and one or more training metrics\n",
    "\n",
    "The loss function quantifies how far off the network prediction is from the target\n",
    "\n",
    "The optimiser makes parameter adjustments in the training loop and metrics report on progress"
   ]
  },
  {
   "cell_type": "code",
   "execution_count": 12,
   "id": "de0dfa74",
   "metadata": {},
   "outputs": [],
   "source": [
    "network.compile(optimizer ='rmsprop',\n",
    "               loss='categorical_crossentropy',\n",
    "               metrics=['accuracy'])\n",
    "#rmsprop is one of several tensorflow.keras optimizer\n",
    "#Categorical crossentropy is the preferred loss for single label multiclass problems\n",
    "#accuracy is the fraction of correctly classified samples"
   ]
  },
  {
   "cell_type": "markdown",
   "id": "726ab926",
   "metadata": {},
   "source": [
    "### 4. Train\n",
    "\n",
    "We have to decide:\n",
    "\n",
    "    - the number of samples processed in a single pass of the training algorithm - the mini-batch size\n",
    "    - the number of complete passes through the entire training set - the number of epochs"
   ]
  },
  {
   "cell_type": "code",
   "execution_count": 13,
   "id": "d05e7b97",
   "metadata": {},
   "outputs": [
    {
     "name": "stdout",
     "output_type": "stream",
     "text": [
      "Epoch 1/5\n",
      "\u001b[1m469/469\u001b[0m \u001b[32m━━━━━━━━━━━━━━━━━━━━\u001b[0m\u001b[37m\u001b[0m \u001b[1m1s\u001b[0m 2ms/step - accuracy: 0.8735 - loss: 0.4403\n",
      "Epoch 2/5\n",
      "\u001b[1m469/469\u001b[0m \u001b[32m━━━━━━━━━━━━━━━━━━━━\u001b[0m\u001b[37m\u001b[0m \u001b[1m1s\u001b[0m 2ms/step - accuracy: 0.9659 - loss: 0.1154\n",
      "Epoch 3/5\n",
      "\u001b[1m469/469\u001b[0m \u001b[32m━━━━━━━━━━━━━━━━━━━━\u001b[0m\u001b[37m\u001b[0m \u001b[1m1s\u001b[0m 2ms/step - accuracy: 0.9786 - loss: 0.0710\n",
      "Epoch 4/5\n",
      "\u001b[1m469/469\u001b[0m \u001b[32m━━━━━━━━━━━━━━━━━━━━\u001b[0m\u001b[37m\u001b[0m \u001b[1m1s\u001b[0m 2ms/step - accuracy: 0.9837 - loss: 0.0547\n",
      "Epoch 5/5\n",
      "\u001b[1m469/469\u001b[0m \u001b[32m━━━━━━━━━━━━━━━━━━━━\u001b[0m\u001b[37m\u001b[0m \u001b[1m1s\u001b[0m 2ms/step - accuracy: 0.9885 - loss: 0.0381\n"
     ]
    },
    {
     "data": {
      "text/plain": [
       "<keras.src.callbacks.history.History at 0x284593750>"
      ]
     },
     "execution_count": 13,
     "metadata": {},
     "output_type": "execute_result"
    }
   ],
   "source": [
    "# training - fit to input data\n",
    "network.fit(train_images, train_labels, epochs=5, batch_size=128)"
   ]
  },
  {
   "cell_type": "markdown",
   "id": "df013b9b",
   "metadata": {},
   "source": [
    "### 5. Test"
   ]
  },
  {
   "cell_type": "code",
   "execution_count": 14,
   "id": "2ab73659",
   "metadata": {},
   "outputs": [
    {
     "name": "stdout",
     "output_type": "stream",
     "text": [
      "\u001b[1m313/313\u001b[0m \u001b[32m━━━━━━━━━━━━━━━━━━━━\u001b[0m\u001b[37m\u001b[0m \u001b[1m0s\u001b[0m 478us/step - accuracy: 0.9749 - loss: 0.0766\n"
     ]
    }
   ],
   "source": [
    "# evaluate on the test set\n",
    "test_loss, test_acc = network.evaluate(test_images, test_labels)"
   ]
  },
  {
   "cell_type": "code",
   "execution_count": 15,
   "id": "aae927c4",
   "metadata": {},
   "outputs": [
    {
     "name": "stdout",
     "output_type": "stream",
     "text": [
      "\u001b[1m1/1\u001b[0m \u001b[32m━━━━━━━━━━━━━━━━━━━━\u001b[0m\u001b[37m\u001b[0m \u001b[1m0s\u001b[0m 21ms/step\n"
     ]
    },
    {
     "data": {
      "text/plain": [
       "array([[9.2000514e-09, 2.9361751e-09, 3.8711210e-06, 2.5862901e-05,\n",
       "        3.9980144e-11, 1.0089801e-07, 5.6675536e-13, 9.9996960e-01,\n",
       "        9.5197286e-08, 5.2229348e-07]], dtype=float32)"
      ]
     },
     "execution_count": 15,
     "metadata": {},
     "output_type": "execute_result"
    }
   ],
   "source": [
    "# network prediction for a single sample\n",
    "# ten numbers, each a probability of class membership\n",
    "network.predict(test_images[:1])"
   ]
  },
  {
   "cell_type": "code",
   "execution_count": 29,
   "id": "c71c41f4",
   "metadata": {},
   "outputs": [
    {
     "name": "stdout",
     "output_type": "stream",
     "text": [
      "\u001b[1m1/1\u001b[0m \u001b[32m━━━━━━━━━━━━━━━━━━━━\u001b[0m\u001b[37m\u001b[0m \u001b[1m0s\u001b[0m 13ms/step\n"
     ]
    },
    {
     "data": {
      "text/plain": [
       "7"
      ]
     },
     "execution_count": 29,
     "metadata": {},
     "output_type": "execute_result"
    }
   ],
   "source": [
    "# what is the most probable class?\n",
    "# the index of the largest element of the output vector\n",
    "import numpy as np\n",
    "np.argmax(network.predict(test_images[:1]))"
   ]
  },
  {
   "cell_type": "code",
   "execution_count": 40,
   "id": "35e9cf34",
   "metadata": {},
   "outputs": [
    {
     "name": "stdout",
     "output_type": "stream",
     "text": [
      "7\n"
     ]
    }
   ],
   "source": [
    "# does the prediction agree with the label?\n",
    "raw_label_vector = test_labels[0]\n",
    "\n",
    "predicated_label = np.argmax(raw_label_vector)\n",
    "print(predicated_label)"
   ]
  },
  {
   "cell_type": "code",
   "execution_count": 38,
   "id": "0bd6b801",
   "metadata": {},
   "outputs": [
    {
     "data": {
      "image/png": "[encoded data removed]",
      "text/plain": [
       "<Figure size 640x480 with 1 Axes>"
      ]
     },
     "metadata": {},
     "output_type": "display_data"
    }
   ],
   "source": [
    "import matplotlib.pyplot as plt\n",
    "\n",
    "# Reshape the first test image back to its original shape\n",
    "image_to_show = test_images[0].reshape((28, 28))\n",
    "\n",
    "# Display the image\n",
    "plt.imshow(image_to_show, cmap=plt.cm.binary)\n",
    "plt.show()"
   ]
  },
  {
   "cell_type": "markdown",
   "id": "3f7c478d",
   "metadata": {},
   "source": [
    "Remember that the network does not have eyes and a visual cortex. The network only mapped 784 element vector to a 10 component probability factor."
   ]
  },
  {
   "cell_type": "code",
   "execution_count": null,
   "id": "a6d62c70",
   "metadata": {},
   "outputs": [],
   "source": []
  }
 ],
 "metadata": {
  "kernelspec": {
   "display_name": "Python 3 (ipykernel)",
   "language": "python",
   "name": "python3"
  },
  "language_info": {
   "codemirror_mode": {
    "name": "ipython",
    "version": 3
   },
   "file_extension": ".py",
   "mimetype": "text/x-python",
   "name": "python",
   "nbconvert_exporter": "python",
   "pygments_lexer": "ipython3",
   "version": "3.11.5"
  }
 },
 "nbformat": 4,
 "nbformat_minor": 5
}
